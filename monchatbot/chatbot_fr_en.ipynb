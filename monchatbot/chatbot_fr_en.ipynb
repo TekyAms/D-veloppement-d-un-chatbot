{
  "cells": [
    {
      "cell_type": "code",
      "execution_count": 1,
      "metadata": {
        "colab": {
          "base_uri": "https://localhost:8080/"
        },
        "id": "Jsh42U6DU1cc",
        "outputId": "3701fea4-d311-4cb9-cca8-308fbe584343"
      },
      "outputs": [
        {
          "name": "stderr",
          "output_type": "stream",
          "text": [
            "[nltk_data] Downloading package punkt to\n",
            "[nltk_data]     C:\\Users\\amous\\AppData\\Roaming\\nltk_data...\n",
            "[nltk_data]   Package punkt is already up-to-date!\n",
            "[nltk_data] Downloading package wordnet to\n",
            "[nltk_data]     C:\\Users\\amous\\AppData\\Roaming\\nltk_data...\n",
            "[nltk_data]   Package wordnet is already up-to-date!\n",
            "[nltk_data] Downloading package punkt_tab to\n",
            "[nltk_data]     C:\\Users\\amous\\AppData\\Roaming\\nltk_data...\n",
            "[nltk_data]   Package punkt_tab is already up-to-date!\n"
          ]
        },
        {
          "data": {
            "text/plain": [
              "True"
            ]
          },
          "execution_count": 1,
          "metadata": {},
          "output_type": "execute_result"
        }
      ],
      "source": [
        "import json\n",
        "import string\n",
        "import random\n",
        "import nltk\n",
        "import numpy as np\n",
        "from nltk.stem import WordNetLemmatizer\n",
        "import tensorflow as tf\n",
        "from tensorflow.keras import Sequential\n",
        "from tensorflow.keras.layers import Dense, Dropout\n",
        "\n",
        "# Download the necessary NLTK data packages\n",
        "nltk.download(\"punkt\")\n",
        "nltk.download(\"wordnet\")\n",
        "nltk.download('punkt_tab') # Download the punkt_tab data package\n"
      ]
    },
    {
      "cell_type": "code",
      "execution_count": 2,
      "metadata": {
        "colab": {
          "base_uri": "https://localhost:8080/"
        },
        "id": "C3bimDb_W_bP",
        "outputId": "e90da0c7-2956-484b-9606-8c4f360a75cf"
      },
      "outputs": [
        {
          "name": "stdout",
          "output_type": "stream",
          "text": [
            "{'intentions': [{'tag': 'salutations', 'questions_fr': ['Bonjour', 'Bonsoir', 'Comment allez-vous ?', 'Ca va .', 'Salut', 'Quoi de neuf', 'Ca va ?'], 'questions_en': ['Hello', 'Good Morning', 'Good afternoon', 'How are you?', \"How's it going?\", 'Hi', \"What's up?\", 'How are you doing?'], 'réponses_fr': ['Bonjour et Bienvenue dans le pays de la TERANGA', 'Bonsoir et Bienvenue dans le pays de la TERANGA', 'Oui je vais bien et chez vous?', 'En quoi puis-je vous être utile ?', 'Hey!!Tout se passe bien pour vous ?', 'Oui ca va .Que puis-je faire pour vous aider ?', 'Oui ca va.En quoi puis-je vous être utile ?'], 'réponses_en': ['Hello and welcome to the land of TERANGA.', 'Morning and welcome to the land of TERANGA.', 'Good afternoon and welcome to the land of TERANGA.', \"Yes, I'm fine, and you?\", 'How can I help you?', 'Hey!! How are things going for you?', \"Yes, I'm fine. What can I do to help you?\", \"Yes, I'm fine. How can I assist you?\"]}, {'tag': 'recommandation_destination_senegal', 'questions_fr': ['Quelles sont les meilleures destinations au Sénégal ?', 'Où aller au Sénégal pour des vacances ?', 'Pouvez-vous me conseiller une destination au Sénégal ?', 'Quels sont les lieux incontournables au Sénégal ?', 'Quels sont les endroits populaires pour les touristes au Sénégal ?'], 'questions_en': ['What are the best destinations in Senegal?', 'Where to go in Senegal for a vacation?', 'Can you recommend a destination in Senegal?', 'What are the must-see places in Senegal?', 'What are the popular tourist spots in Senegal?'], 'réponses_fr': [\"les meilleures destinations au Sénégal sont le Lac Rose, l'île de Gorée,le monument de la renaissance,site Plazza,Pullman,Radisson et Saly.\", 'Visitez le parc national du delta du Saloum pour une expérience naturelle unique.', 'Dakar, Saint-Louis et Cap Skirring sont des lieux à ne pas manquer.', 'Je recommande une visite à la réserve de Bandia ou au parc national de Niokolo-Koba.', 'Pour des vacances balnéaires, Saly et Cap Skirring sont parfaits.'], 'réponses_en': ['The best destinations in Senegal are Lac Rose, Gorée Island, the Renaissance Monument, Plazza site, Pullman, Radisson, and Saly.', 'Visit the Saloum Delta National Park for a unique natural experience.', 'Dakar, Saint-Louis, and Cap Skirring are must-visit places.', 'I recommend a visit to the Bandia Reserve or Niokolo-Koba National Park.', 'For beach holidays, Saly and Cap Skirring are perfect.']}, {'tag': 'activites_senegal', 'questions_fr': ['Quelles activités peut-on faire au Sénégal ?', 'Que faire pendant mon séjour au Sénégal ?', 'Pouvez-vous me conseiller des excursions au Sénégal ?', 'Quels musées visiter au Sénégal ?', 'Quels sont les festivals culturels au Sénégal ?'], 'questions_en': ['What activities can you do in Senegal?', 'What to do during my stay in Senegal?', 'Can you recommend excursions in Senegal?', 'Which museums to visit in Senegal?', 'What are the cultural festivals in Senegal?'], 'réponses_fr': [\"Partez en safari au parc national de Niokolo-Koba ou à la réserve de Bandia.Découvrez les plages de Saly, Cap Skirring et la Petite Côte.Essayez une excursion sur l'île de Gorée ou au Lac Rose.Explorez le delta du Saloum en pirogue et observez les oiseaux.Faites des Randonnées jusqu'aux cascades de Dindefelo à Kédougou.Visitez les marchés artisanaux de Dakar et Saint-Louis.Pratiquez le surf sur les plages de Yoff et Ngor.\", \"Explorez l'île de Gorée et la Maison des Esclaves.Découvrez le centre-ville de Dakar et le Monument de la Renaissance africaine.Admirez le Lac Rose et rencontrez les ramasseurs de sel.Partez en safari à la réserve de Bandia ou au parc de Niokolo-Koba.Détendez-vous sur les plages de Saly et Cap Skirring. Naviguez en pirogue dans le delta du Saloum ou en Casamance.Visitez la ville historique de Saint-Louis et son architecture coloniale.Goûtez aux spécialités locales comme le thiéboudienne et le yassa poulet\", \"Vous pouvez faire une excursion sur l'île de Gorée, visiter le Lac Rose, partir en safari à la réserve de Bandia, explorer le parc du Djoudj pour observer les oiseaux, ou naviguer en pirogue dans le delta du Saloum.\", \"Vous pouvez visiter le Musée des Civilisations Noires, la Maison des Esclaves sur l'île de Gorée, le Musée Théodore Monod, le Musée de la civilisation noire, le Village des Arts à Dakar et le Musée de Saint-Louis.\", \"Les festivals culturels au Sénégal incluent Dak'Art, le Festival de Jazz de Saint-Louis, le Festival de Gorée, le Festival des Arts et Cultures Sérères, le Festival de Kaydara, le Festival de la Danse Africaine de Kaolack et le Festival du Sahel à Lompoul.\"], 'réponses_en': ['Go on a safari in Niokolo-Koba National Park or Bandia Reserve. Discover the beaches of Saly, Cap Skirring, and the Petite Côte. Try an excursion to Gorée Island or Lac Rose. Explore the Saloum Delta by pirogue and observe the birds. Hike to the Dindefelo waterfalls in Kédougou. Visit the artisanal markets of Dakar and Saint-Louis. Surf on the beaches of Yoff and Ngor.', 'Explore Gorée Island and the House of Slaves. Discover downtown Dakar and the African Renaissance Monument. Admire Lac Rose and meet the salt collectors. Go on a safari to Bandia Reserve or Niokolo-Koba Park. Relax on the beaches of Saly and Cap Skirring. Navigate by pirogue in the Saloum Delta or Casamance. Visit the historic city of Saint-Louis and its colonial architecture. Taste local specialties like thiéboudienne and yassa chicken.', 'You can take an excursion to Gorée Island, visit Lac Rose, go on a safari to Bandia Reserve, explore Djoudj National Bird Sanctuary, or navigate by pirogue in the Saloum Delta.', 'You can visit the Museum of Black Civilizations, the House of Slaves on Gorée Island, the Théodore Monod Museum, the Village des Arts in Dakar, and the Museum of Saint-Louis.', \"Cultural festivals in Senegal include Dak'Art, the Saint-Louis Jazz Festival, the Gorée Festival, the Serere Arts and Culture Festival, the Kaydara Festival, the African Dance Festival of Kaolack, and the Lompoul Desert Festival.\"]}, {'tag': 'gastronomie_senegal', 'questions_fr': ['Quels plats typiques essayer au Sénégal ?', 'Pouvez-vous me recommander des restaurants au Sénégal ?', 'Où manger le meilleur thieboudienne ?', 'Quelles sont les spécialités culinaires du Sénégal ?', 'Quels marchés alimentaires visiter ?'], 'questions_en': ['What typical dishes to try in Senegal?', 'Can you recommend restaurants in Senegal?', 'Where to eat the best thieboudienne?', 'What are the culinary specialties of Senegal?', 'Which food markets to visit?'], 'réponses_fr': ['Au Sénégal, goûtez au thiéboudienne, au yassa poulet, au mafé, au soupe kandia, aux pastels et aux beignets de mil', 'Vous pouvez essayer Le Ngor et Chez Loutcha à Dakar, La Kora à Saint-Louis, La Paillote à Saly et Le Papayer en Casamance pour déguster des spécialités sénégalaises.', 'Le meilleur thiéboudienne se trouve dans les restaurants traditionnels comme Chez Loutcha à Dakar, au Relais de l’Espadon à Saint-Louis, ou directement chez l’habitant pour une expérience authentique', 'Les spécialités culinaires du Sénégal incluent le thiéboudienne, le yassa, le mafé, le domoda, le soupe kandia, les pastels et le lakh.', 'Visitez le marché Tilène pour découvrir les produits locaux et les épices sénégalaises à DAKAR'], 'réponses_en': ['In Senegal, try thiéboudienne, yassa chicken, mafé, soupe kandia, pastels, and millet beignets.', 'You can try Le Ngor and Chez Loutcha in Dakar, La Kora in Saint-Louis, La Paillote in Saly, and Le Papayer in Casamance to taste Senegalese specialties.', \"The best thieboudienne can be found in traditional restaurants like Chez Loutcha in Dakar, Relais de l’Espadon in Saint-Louis, or directly at a local's home for an authentic experience.\", 'Culinary specialties of Senegal include thiéboudienne, yassa, mafé, domoda, soupe kandia, pastels, and lakh.', 'Visit Tilène Market to discover local products and Senegalese spices in DAKAR.']}, {'tag': 'climat_senegal', 'questions_fr': ['Quel est le meilleur moment pour visiter le Sénégal ?', 'Comment est le climat au Sénégal ?', 'Y a-t-il une saison des pluies au Sénégal ?', 'Quelle est la température moyenne au Sénégal ?', 'Quand visiter Dakar ?', 'Quelle région visiter pendant la saison verte au Sénégal ?'], 'questions_en': ['What is the best time to visit Senegal?', 'What is the climate like in Senegal?', 'Is there a rainy season in Senegal?', 'What is the average temperature in Senegal?', 'When to visit Dakar?', 'Which region to visit during the green season in Senegal?'], 'réponses_fr': ['Le meilleur moment pour visiter est entre novembre et mai, pendant la saison sèche.', 'Le Sénégal a un climat tropical avec une saison des pluies de juin à octobre.', \"Oui le Sénégal dispose d'une saison des pluies de juin à octobre.\", 'Les températures sont généralement agréables, autour de 25-30°C.', 'Pour visiter Dakar, préférez la saison sèche pour éviter les pluies.', 'La région de Casamance est particulièrement belle pendant la saison verte.'], 'réponses_en': ['The best time to visit is between November and May, during the dry season.', 'Senegal has a tropical climate with a rainy season from June to October.', 'Yes, Senegal has a rainy season from June to October.', 'Temperatures are generally pleasant, around 25-30°C.', 'To visit Dakar, prefer the dry season to avoid the rains.', 'The Casamance region is particularly beautiful during the green season.']}, {'tag': 'histoire_senegal', 'questions_fr': ['Quels sont les sites historiques à visiter au Sénégal ?', \"Quelle est l'histoire de l'île de Gorée ?\", 'Où trouver des monuments historiques au Sénégal ?', 'Pouvez-vous me parler du passé colonial du Sénégal ?', 'Quels sont les musées à ne pas manquer au Sénégal ?'], 'questions_en': ['What are the historical sites to visit in Senegal?', 'What is the history of Gorée Island?', 'Where to find historical monuments in Senegal?', \"Can you tell me about Senegal's colonial past?\", 'Which museums are a must-see in Senegal?'], 'réponses_fr': [\"Vous pouvez visiter l'île de Gorée et la Maison des Esclaves et l'ancienne ville coloniale de Saint-Louis\", \"L'île de Gorée, inscrite au patrimoine mondial de l'UNESCO, fut un important centre de commerce des esclaves du XVIe au XIXe siècle, et aujourd'hui, elle témoigne de cette histoire à travers la Maison des Esclaves et ses ruelles pittoresques.\", \"Vous trouverez des monuments historiques à Dakar avec le Monument de la Renaissance Africaine, à Saint-Louis avec le Pont Faidherbe, à Gorée avec la Maison des Esclaves, et dans le Sine-Saloum avec les cercles mégalithiques classés par l'UNESCO.\", \"Le Sénégal a été une colonie française du XVIIe siècle jusqu'à son indépendance en 1960, avec des villes comme Saint-Louis et Gorée servant de centres administratifs et commerciaux, marqués par une architecture coloniale encore visible aujourd'hui.\", \"Le Musée des Civilisations Noires, la Maison des Esclaves sur l'île de Gorée sont des lieux à explorer.\"], 'réponses_en': ['You can visit Gorée Island, the House of Slaves, and the old colonial city of Saint-Louis.', 'Gorée Island, a UNESCO World Heritage Site, was a major center of the slave trade from the 16th to the 19th century, and today it bears witness to this history through the House of Slaves and its picturesque streets.', 'You will find historical monuments in Dakar with the African Renaissance Monument, in Saint-Louis with the Faidherbe Bridge, in Gorée with the House of Slaves, and in Sine-Saloum with the UNESCO-listed megalithic circles.', 'Senegal was a French colony from the 17th century until its independence in 1960, with cities like Saint-Louis and Gorée serving as administrative and commercial centers, marked by colonial architecture still visible today.', 'The Museum of Black Civilizations and the House of Slaves on Gorée Island are must-visit places.']}, {'tag': 'plages_senegal', 'questions_fr': ['Quelles sont les meilleures plages au Sénégal ?', 'Où peut-on faire du surf au Sénégal ?', 'Quels sont les endroits pour se détendre au bord de la mer ?', 'Pouvez-vous recommander des plages tranquilles ?', 'Où peut-on pratiquer la pêche au Sénégal ?'], 'questions_en': ['What are the best beaches in Senegal?', 'Where can you surf in Senegal?', 'What are the best places to relax by the sea?', 'Can you recommend quiet beaches?', 'Where can you go fishing in Senegal?'], 'réponses_fr': ['Les plus belles plages du Sénégal incluent la plage de Popenguine, la plage de Cap Skirring, la plage de Saly, la plage de Ngor et la plage de la Somone.', 'La plage de Yoff à Dakar est très populaire pour le surf.', 'Pour vous détendre au bord de la mer, rendez-vous à la lagune de la Somone, aux plages de Cap Skirring, à Saly pour ses resorts, ou encore sur l’île de Niodior dans le Sine-Saloum.', 'Pour des plages paisibles, explorez la plage de Toubab Dialaw, la plage de Palmarin, la plage de Kafountine en Casamance, ou la plage de Nianing.', 'Vous pouvez pratiquer la pêche à Kayar, Joal-Fadiouth, Mbour, Saint-Louis et dans le delta du Saloum, où la pêche artisanale et sportive sont très populaires.'], 'réponses_en': ['The most beautiful beaches in Senegal include Popenguine Beach, Cap Skirring Beach, Saly Beach, Ngor Beach, and Somone Beach.', 'Yoff Beach in Dakar is very popular for surfing.', 'To relax by the sea, head to the Somone Lagoon, the beaches of Cap Skirring, Saly for its resorts, or Niodior Island in Sine-Saloum.', 'For quiet beaches, explore Toubab Dialaw Beach, Palmarin Beach, Kafountine Beach in Casamance, or Nianing Beach.', 'You can go fishing in Kayar, Joal-Fadiouth, Mbour, Saint-Louis, and the Saloum Delta, where artisanal and sport fishing are very popular.']}, {'tag': 'transport_senegal', 'questions_fr': ['Comment se déplacer au Sénégal ?', 'Y a-t-il des transports en commun fiables au Sénégal ?', 'Comment louer une voiture au Sénégal ?', 'Quels sont les moyens de transport les plus courants au Sénégal ?', 'Le train est-il une option au Sénégal ?'], 'questions_en': ['How to get around in Senegal?', 'Are there reliable public transports in Senegal?', 'How to rent a car in Senegal?', 'What are the most common means of transportation in Senegal?', 'Is the train an option in Senegal?'], 'réponses_fr': ['Au Sénégal, vous pouvez vous déplacer en taxi, en bus, en car rapide, en Ndiaga Ndiaye, en voiture de location ou en avion pour les longues distances.', 'Oui, le Sénégal dispose de transports en commun comme le Bus Rapid Transit (BRT) à Dakar, les cars rapides et Ndiaga Ndiaye, mais leur ponctualité et confort varient selon les trajets.', \"Vous pouvez louer une voiture auprès d'agences comme Hertz, Avis, ou des agences locales à Dakar, l’aéroport et dans les grandes villes, avec ou sans chauffeur.\", 'Les moyens de transport les plus courants sont les taxis, les bus, les cars rapides, les Ndiaga Ndiaye, ainsi que les motos-taxis en zones rurales.', 'Le train est une option limitée, mais le TER (Train Express Régional) relie Dakar à Diamniadio, tandis que d’autres lignes ferroviaires restent peu développées pour le transport de passagers.'], 'réponses_en': ['In Senegal, you can get around by taxi, bus, car rapide, Ndiaga Ndiaye, rental car, or plane for long distances.', 'Yes, Senegal has public transport like the Bus Rapid Transit (BRT) in Dakar, car rapides, and Ndiaga Ndiaye, but their punctuality and comfort vary depending on the route.', 'You can rent a car from agencies like Hertz, Avis, or local agencies in Dakar, the airport, and major cities, with or without a driver.', 'The most common means of transportation are taxis, buses, car rapides, Ndiaga Ndiaye, as well as moto-taxis in rural areas.', 'The train is a limited option, but the TER (Regional Express Train) connects Dakar to Diamniadio, while other railway lines remain underdeveloped for passenger transport.']}, {'tag': 'langues_senegal', 'questions_fr': ['Quelle langue parle-t-on au Sénégal ?', 'Pouvez-vous me dire quelles langues sont utilisées au Sénégal ?', 'Les habitants parlent-ils français au Sénégal ?', 'Quels sont les dialectes locaux au Sénégal ?', 'Le wolof est-il la langue principale ?'], 'questions_en': ['What language is spoken in Senegal?', 'Can you tell me which languages are used in Senegal?', 'Do people speak French in Senegal?', 'What are the local dialects in Senegal?', 'Is Wolof the main language?'], 'réponses_fr': [\"La langue officielle du Sénégal est le français, mais le wolof est largement parlé dans tout le pays, accompagné d'autres langues locales.\", \"Au Sénégal, on parle principalement le wolof, le sérère, le pulaar, le diola, le mandingue et d'autres dialectes régionaux, en plus du français.\", \"Oui, le français est la langue officielle du Sénégal et est utilisé dans l'administration, les affaires et l'éducation.\", 'Les dialectes locaux les plus courants sont le wolof, le sérère, le pulaar, le diola, le mandingue et le soninké, chacun correspondant à un groupe ethnique spécifique.', \"Oui, le wolof est la langue principale parlée par la majorité de la population, bien qu'il existe une grande diversité linguistique dans le pays.\"], 'réponses_en': ['The official language of Senegal is French, but Wolof is widely spoken throughout the country, along with other local languages.', 'In Senegal, people mainly speak Wolof, Serer, Pulaar, Diola, Mandinka, and other regional dialects, in addition to French.', 'Yes, French is the official language of Senegal and is used in administration, business, and education.', 'The most common local dialects are Wolof, Serer, Pulaar, Diola, Mandinka, and Soninke, each corresponding to a specific ethnic group.', 'Yes, Wolof is the main language spoken by the majority of the population, although there is great linguistic diversity in the country.']}, {'tag': 'musique_senegal', 'questions_fr': ['Quels genres de musique sont populaires au Sénégal ?', 'Pouvez-vous me parler des artistes sénégalais célèbres ?', 'Où écouter de la musique live à Dakar ?', 'Quels instruments de musique sont typiques du Sénégal ?', 'Le mbalax est-il typique du Sénégal ?'], 'questions_en': ['What music genres are popular in Senegal?', 'Can you tell me about famous Senegalese artists?', 'Where can I listen to live music in Dakar?', 'What musical instruments are typical of Senegal?', 'Is mbalax typical of Senegal?'], 'réponses_fr': ['Les genres de musique populaires au Sénégal incluent le mbalax, le rap, le reggae, le jazz, la musique traditionnelle comme le sabar, ainsi que des influences de musique moderne et de fusion.', \"Parmi les artistes sénégalais célèbres, on retrouve Youssou N'Dour, Baaba Maal, Ismaël Lô, Oumou Sangaré, et Pape Diouf, qui sont reconnus internationalement pour leurs contributions à la musique africaine.\", \"À Dakar, vous pouvez écouter de la musique live dans des endroits comme le Bal de l'Afrique Enchantée, le Just 4 U, le Niandou, ainsi que dans plusieurs clubs et bars animés qui proposent de la musique locale.\", 'Les instruments typiques du Sénégal incluent le tama, le sabar, le xalam, le balafon, le djembé, ainsi que des percussions traditionnelles comme les drums et les cymbales.', 'Oui, le mbalax est une musique typique du Sénégal, fusionnant des rythmes traditionnels avec des influences modernes comme le jazz, le funk et le rock, souvent associé à des danses traditionnelles.'], 'réponses_en': ['Popular music genres in Senegal include mbalax, rap, reggae, jazz, traditional music like sabar, and influences from modern and fusion music.', \"Famous Senegalese artists include Youssou N'Dour, Baaba Maal, Ismaël Lô, Oumou Sangaré, and Pape Diouf, who are internationally recognized for their contributions to African music.\", \"In Dakar, you can listen to live music at places like Bal de l'Afrique Enchantée, Just 4 U, Niandou, and various lively clubs and bars offering local music.\", 'Typical Senegalese instruments include the tama, sabar, xalam, balafon, djembe, and traditional percussion instruments like drums and cymbals.', 'Yes, mbalax is a typical music genre of Senegal, blending traditional rhythms with modern influences such as jazz, funk, and rock, often accompanied by traditional dances.']}, {'tag': 'shopping_senegal', 'questions_fr': ['Où faire du shopping au Sénégal ?', 'Quels sont les meilleurs marchés à Dakar ?', 'Peut-on acheter des produits artisanaux en ligne au Sénégal ?', 'Quels centres commerciaux visiter au Sénégal ?', 'Quels souvenirs rapporter du Sénégal ?'], 'questions_en': ['Where to shop in Senegal?', 'What are the best markets in Dakar?', 'Can you buy handmade products online in Senegal?', 'Which shopping malls should I visit in Senegal?', 'What souvenirs to bring back from Senegal?'], 'réponses_fr': ['Le marché Sandaga à Dakar est un endroit incontournable.', 'Le marché Kermel et le marché Sandaga sont parfaits pour les souvenirs et les produits artisanaux.', 'Certains artisans proposent également leurs produits en ligne.', 'Le Sea Plaza à Dakar offre une expérience shopping moderne.', 'Rapportez des textiles wax, des bijoux artisanaux et des sculptures en bois.'], 'réponses_en': ['The Sandaga market in Dakar is a must-visit place.', 'Kermel and Sandaga markets are great for souvenirs and handmade products.', 'Some artisans also sell their products online.', 'Sea Plaza in Dakar offers a modern shopping experience.', 'Bring back wax textiles, handmade jewelry, and wooden sculptures.']}, {'tag': 'sante_senegal', 'questions_fr': ['Quels vaccins faut-il pour voyager au Sénégal ?', 'Y a-t-il des risques de paludisme au Sénégal ?', 'Comment trouver un médecin au Sénégal ?', 'Les pharmacies sont-elles accessibles au Sénégal ?', 'Quelles précautions sanitaires prendre au Sénégal ?'], 'questions_en': ['What vaccines are required to travel to Senegal?', 'Are there malaria risks in Senegal?', 'How to find a doctor in Senegal?', 'Are pharmacies easily accessible in Senegal?', 'What health precautions should be taken in Senegal?'], 'réponses_fr': [\"Pour voyager au Sénégal, les vaccins recommandés sont ceux contre la fièvre jaune, la diphtérie, le tétanos, la polio, l'hépatite A et B, ainsi que la typhoïde. Il est aussi conseillé d'avoir une protection contre le paludisme.\", \"Oui, il existe un risque de paludisme au Sénégal, en particulier dans les zones rurales et les régions proches des rivières, il est donc recommandé de prendre des médicaments antipaludiques et d'utiliser des moustiquaires.\", \"Pour trouver un médecin au Sénégal, vous pouvez consulter les hôpitaux comme l'Hôpital Principal de Dakar, l'Hôpital de Fann, ou encore des cliniques privées dans les grandes villes.\", \"Les pharmacies sont facilement accessibles dans les grandes villes comme Dakar, avec des pharmacies publiques et privées offrant une large gamme de médicaments, mais il est préférable de vérifier les horaires d'ouverture.\", \"Les précautions sanitaires à prendre au Sénégal incluent la vaccination préalable, la prévention contre le paludisme, l'utilisation de répulsifs contre les moustiques, la consommation d'eau en bouteille et la prudence avec la nourriture.\"], 'réponses_en': ['To travel to Senegal, recommended vaccines include yellow fever, diphtheria, tetanus, polio, hepatitis A and B, and typhoid. Malaria protection is also advised.', 'Yes, there is a risk of malaria in Senegal, especially in rural areas and near rivers. It is recommended to take antimalarial medication and use mosquito nets.', 'To find a doctor in Senegal, you can visit hospitals such as Hôpital Principal de Dakar, Hôpital de Fann, or private clinics in major cities.', 'Pharmacies are easily accessible in major cities like Dakar, with both public and private pharmacies offering a wide range of medications, but it is advisable to check their opening hours.', 'Health precautions in Senegal include prior vaccination, malaria prevention, using mosquito repellents, drinking bottled water, and being cautious with food.']}, {'tag': 'culture_senegal', 'questions_fr': ['Quelles sont les traditions culturelles au Sénégal ?', 'Quels sont les habits traditionnels au Sénégal ?', 'Pouvez-vous me parler des cérémonies au Sénégal ?', 'Quels sont les arts typiques du Sénégal ?', 'Quelles sont les valeurs culturelles sénégalaises ?'], 'questions_en': ['What are the cultural traditions in Senegal?', 'What are the traditional clothes in Senegal?', 'Can you tell me about ceremonies in Senegal?', 'What are the typical arts of Senegal?', 'What are Senegalese cultural values?'], 'réponses_fr': [\"Les traditions culturelles du Sénégal incluent des célébrations comme le Turu-Turu, le Mawlid, les fêtes religieuses comme l'Aïd, ainsi que des danses traditionnelles et des contes populaires.\", 'Les habits traditionnels au Sénégal incluent le boubou, porté par les hommes, et le boubou avec le pagne pour les femmes, ainsi que des vêtements colorés et brodés lors de cérémonies.', \"Les cérémonies au Sénégal sont nombreuses, comprenant des rites d'initiation, des mariages traditionnels, des fêtes religieuses comme l'Aïd et des cérémonies de communion avec les ancêtres.\", 'Les arts typiques du Sénégal comprennent la musique traditionnelle comme le sabar et le mbalax, la danse, la sculpture sur bois, la peinture, ainsi que le tissage et la poterie.', \"Les valeurs culturelles sénégalaises incluent le respect des aînés, la teranga ou l'hospitalité, la solidarité, le sens de la communauté, la famille, ainsi que la tolérance et la cohabitation pacifique des différentes ethnies.\"]}, {'tag': 'faune_senegal', 'questions_fr': ['Quels animaux peut-on voir au Sénégal ?', 'Pouvez-vous me conseiller un safari au Sénégal ?', 'Quels parcs nationaux visiter pour la faune ?', 'Y a-t-il des oiseaux rares au Sénégal ?', 'Quels sont les animaux emblématiques du Sénégal ?'], 'questions_en': ['What animals can be seen in Senegal?', 'Can you recommend a safari in Senegal?', 'Which national parks should I visit for wildlife?', 'Are there rare birds in Senegal?', 'What are the iconic animals of Senegal?'], 'réponses_fr': ['Le parc national de Niokolo-Koba est un site idéal pour voir des lions et des antilopes.', 'Le parc de Djoudj est célèbre pour ses oiseaux migrateurs.', 'Vous pouvez voir des girafes et des rhinocéros à la réserve de Bandia.', 'Les hippopotames sont souvent observés dans le delta du Saloum.', 'Les crocodiles sont aussi présents dans certaines régions.']}, {'tag': 'artisanat_senegal', 'questions_fr': ['Où acheter des souvenirs au Sénégal ?', 'Quels sont les objets artisanaux typiques ?', 'Pouvez-vous me conseiller des marchés locaux ?', 'Quelles sont les spécialités en artisanat ?', 'Quels textiles traditionnels trouve-t-on au Sénégal ?'], 'questions_en': ['Where to buy souvenirs in Senegal?', 'What are the typical handicrafts in Senegal?', 'Can you recommend local markets?', 'What are the specialties in Senegalese crafts?', 'What traditional textiles can be found in Senegal?'], 'réponses_fr': ['Les marchés comme Sandaga et Soumbédioune offrent une grande variété de souvenirs.', 'Les objets artisanaux typiques incluent des sculptures en bois, des masques, des bijoux en perles, des paniers en osier, des tissus batik et des objets en cuivre.', 'Les marchés locaux à ne pas manquer sont le marché Sandaga et le marché Kermel à Dakar, ainsi que les marchés de Thiès et de Saint-Louis pour des souvenirs artisanaux.', 'Les spécialités en artisanat sénégalais incluent les sculptures en bois, les tissus artisanaux, les bijoux en argent, les objets en perles, ainsi que les poteries et vanneries.', 'Les textiles traditionnels du Sénégal incluent le boubou brodé, les pagnes teints à la main, le wax, le batik et le khamis, des tissus riches en couleurs et motifs.']}, {'tag': 'sports_senegal', 'questions_fr': ['Quels sports sont populaires au Sénégal ?', 'Le Sénégal est-il bon au football ?', 'Quels événements sportifs assister au Sénégal ?', 'La lutte sénégalaise est-elle célèbre ?', 'Pouvez-vous me parler des sports traditionnels au Sénégal ?'], 'questions_en': ['What sports are popular in Senegal?', 'Is Senegal good at football?', 'Which sports events can I attend in Senegal?', 'Is Senegalese wrestling famous?', 'Can you tell me about traditional sports in Senegal?'], 'réponses_fr': ['Le football, la lutte sénégalaise, le basketball, le handball et le volleyball sont des sports populaires au Sénégal.', 'Oui, le Sénégal est très bon en football, ayant une équipe nationale forte, les Lions de la Teranga, qui participent régulièrement à des compétitions internationales de haut niveau.', 'Vous pouvez assister à des matchs de football, des compétitions de lutte sénégalaise, des événements de basketball et des tournois de tennis ou de handball organisés régulièrement dans les principales villes.', 'Oui, la lutte sénégalaise est un sport très célèbre et apprécié, pratiqué dans tout le pays avec des compétitions populaires et des lutteurs célèbres.', \"Les sports traditionnels incluent la lutte sénégalaise, le football de rue et des jeux comme le 'jogging' ou la course de chevaux qui ont une longue tradition au Sénégal.\"]}, {'tag': 'securite_senegal', 'questions_fr': ['Le Sénégal est-il un pays sûr pour les touristes ?', 'Quels conseils de sécurité pour voyager au Sénégal ?', 'Y a-t-il des zones à éviter au Sénégal ?', 'Comment garantir sa sécurité au Sénégal ?', 'Les femmes peuvent-elles voyager seules au Sénégal ?'], 'questions_en': ['Is Senegal a safe country for tourists?', 'What safety tips should I follow when traveling to Senegal?', 'Are there any areas to avoid in Senegal?', 'How can I ensure my safety in Senegal?', 'Can women travel alone in Senegal?'], 'réponses_fr': [\"Le Sénégal est généralement considéré comme un pays sûr pour les touristes, avec un faible taux de criminalité, bien qu'il soit recommandé de rester vigilant dans les zones urbaines densément peuplées.\", \"Pour voyager en toute sécurité au Sénégal, il est conseillé de respecter les règles locales, d'éviter de porter des objets de valeur en public, de privilégier les transports organisés et d'être attentif aux conseils des autorités locales.\", \"Il est recommandé d'éviter certaines zones isolées ou les quartiers à forte densité de population à Dakar et d'être prudent dans certaines régions rurales.\", \"Pour garantir sa sécurité, il est conseillé de suivre les recommandations des autorités locales, d'éviter les zones isolées la nuit et de privilégier des transports sûrs.\", \"Les femmes peuvent voyager seules au Sénégal, mais elles doivent être attentives aux normes culturelles, s'habiller modestement et éviter les situations nocturnes seules dans des zones moins fréquentées.\"]}]}\n"
          ]
        }
      ],
      "source": [
        "import json\n",
        "\n",
        "# Chemin du fichier JSON\n",
        "document = \"chatbot_tourisme_fr_en.json\"  # Update the path to the correct location\n",
        "\n",
        "# Lecture du fichier JSON\n",
        "with open(document, \"r\", encoding=\"utf-8\") as f:\n",
        "    data = json.load(f)\n",
        "\n",
        "# Affichage du contenu\n",
        "print(data)\n"
      ]
    },
    {
      "cell_type": "code",
      "execution_count": null,
      "metadata": {
        "id": "RUkcwrGmUgkr"
      },
      "outputs": [],
      "source": []
    },
    {
      "cell_type": "code",
      "execution_count": 3,
      "metadata": {
        "id": "bETy3XMIY6y-"
      },
      "outputs": [],
      "source": [
        "# initialisation de lemmatizer pour obtenir la racine des mots\n",
        "lemmatizer = WordNetLemmatizer()\n",
        "\n",
        "# création des listes\n",
        "words = []\n",
        "classes = []\n",
        "doc_X = []\n",
        "doc_y = []\n",
        "\n",
        "# parcourir avec une boucle For toutes les intentions\n",
        "# tokéniser chaque pattern et ajouter les tokens à la liste words, les patterns et\n",
        "# le tag associé à l'intention sont ajoutés aux listes correspondantes\n",
        "# Parcourir toutes les intentions\n",
        "for intent in data[\"intentions\"]:\n",
        "    # Traiter les questions françaises ET anglaises\n",
        "    for lang_key in [\"questions_fr\", \"questions_en\"]:  # Ajout des clés linguistiques\n",
        "        if lang_key in intent:  # Vérifier la présence de la clé\n",
        "            for question in intent[lang_key]:\n",
        "                tokens = nltk.word_tokenize(question)\n",
        "                words.extend(tokens)\n",
        "                doc_X.append(question)\n",
        "\n",
        "                # Associer le tag si disponible\n",
        "                if \"tag\" in intent:\n",
        "                    doc_y.append(intent[\"tag\"])\n",
        "\n",
        "    # Gestion des tags\n",
        "    if \"tag\" in intent and intent[\"tag\"] not in classes:\n",
        "        classes.append(intent[\"tag\"])\n",
        "\n",
        "# Le reste du code reste inchangé\n",
        "words = [lemmatizer.lemmatize(word.lower()) for word in words if word not in string.punctuation]\n",
        "words = sorted(set(words))\n",
        "classes = sorted(set(classes))"
      ]
    },
    {
      "cell_type": "code",
      "execution_count": 4,
      "metadata": {
        "colab": {
          "base_uri": "https://localhost:8080/"
        },
        "id": "D1UbgSwyZBw8",
        "outputId": "da1fbe76-0737-4b63-8bd8-201fab5dcc4e"
      },
      "outputs": [
        {
          "name": "stdout",
          "output_type": "stream",
          "text": [
            "[\"'s\", 'a', 'a-t-il', 'about', 'accessible', 'accessibles', 'acheter', 'activity', 'activités', 'afternoon', 'alimentaires', 'aller', 'allez-vous', 'alone', 'an', 'animal', 'animaux', 'any', 'are', 'area', 'around', 'art', 'artisanat', 'artisanaux', 'artist', 'artiste', 'assister', 'at', 'attend', 'au', 'average', 'avoid', 'back', 'be', 'beach', 'best', 'bird', 'bon', 'bonjour', 'bonsoir', 'bord', 'bring', 'buy', 'by', 'ca', 'can', 'car', 'centre', 'ceremony', 'climat', 'climate', 'clothes', 'colonial', 'comment', 'commerciaux', 'common', 'commun', 'conseiller', 'conseils', 'country', 'courants', 'craft', 'culinaires', 'culinary', 'cultural', 'culturelles', 'culturels', 'célèbre', 'célèbres', 'cérémonies', 'dakar', 'de', 'destination', 'dialect', 'dialectes', 'dire', 'dish', 'do', 'doctor', 'doing', 'du', 'during', 'déplacer', 'détendre', 'easily', 'eat', 'emblématiques', 'en', 'endroits', 'ensure', 'essayer', 'est', 'est-elle', 'est-il', 'event', 'excursion', 'faire', 'famous', 'faune', 'faut-il', 'femmes', 'festival', 'fiables', 'find', 'fishing', 'follow', 'food', 'football', 'for', 'found', 'français', 'french', 'from', 'garantir', 'genre', 'get', 'go', 'going', 'good', 'gorée', 'green', 'habit', 'habitant', 'handicraft', 'handmade', 'health', 'hello', 'hi', 'historical', 'historiques', 'history', 'how', 'i', 'iconic', 'in', 'incontournables', 'instrument', 'is', 'island', 'it', \"l'histoire\", \"l'île\", 'la', 'language', 'langue', 'langues', 'le', 'lieux', 'ligne', 'like', 'listen', 'live', 'local', 'locaux', 'louer', 'lutte', 'main', 'malaria', 'mall', 'manger', 'manquer', 'marchés', 'market', 'mbalax', 'me', 'mean', 'meilleur', 'meilleures', 'meilleurs', 'mer', 'moment', 'mon', 'monument', 'morning', 'most', 'moyenne', 'moyens', 'museum', 'music', 'musical', 'musique', 'must-see', 'musées', 'my', 'médecin', 'national', 'nationaux', 'ne', 'neuf', 'objets', 'of', 'oiseaux', 'online', 'option', 'où', 'pa', 'paludisme', 'parcs', 'park', 'parle-t-on', 'parlent-ils', 'parler', 'passé', 'past', 'pay', 'pendant', 'people', 'peut-on', 'peuvent-elles', 'pharmacy', 'place', 'plage', 'plat', 'pluies', 'plus', 'populaires', 'popular', 'pour', 'pouvez-vous', 'pratiquer', 'precaution', 'prendre', 'principale', 'product', 'produits', 'précautions', 'public', 'pêche', 'quand', 'que', 'quel', 'quelle', 'quelles', 'quels', 'quiet', 'quoi', 'rainy', 'rapporter', 'rare', 'rares', 'recommander', 'recommend', 'region', 'relax', 'reliable', 'rent', 'required', 'restaurant', 'risk', 'risques', 'région', 'sa', 'safari', 'safe', 'safety', 'saison', 'salut', 'sanitaires', 'se', 'sea', 'season', 'seen', 'senegal', 'senegalese', 'seules', 'shop', 'shopping', 'should', 'site', 'sont', 'sont-elles', 'souvenir', 'speak', 'specialty', 'spoken', 'sport', 'sportifs', 'spot', 'spécialités', 'stay', 'surf', 'sécurité', 'séjour', 'sénégal', 'sénégalais', 'sénégalaise', 'sénégalaises', 'sûr', 'taken', 'tell', 'temperature', 'température', 'textile', 'the', 'there', 'thieboudienne', 'time', 'tip', 'to', 'tourist', 'touristes', 'tradition', 'traditional', 'traditionnels', 'train', 'tranquilles', 'transport', 'transportation', 'travel', 'traveling', 'trouve-t-on', 'trouver', 'try', 'typical', 'typique', 'typiques', 'un', 'une', 'up', 'used', 'utilisées', 'va', 'vacances', 'vacation', 'vaccine', 'vaccins', 'valeurs', 'value', 'verte', 'visit', 'visiter', 'voir', 'voiture', 'voyager', 'what', 'when', 'where', 'which', 'wildlife', 'wolof', 'woman', 'wrestling', 'y', 'you', 'zone', 'à', 'écouter', 'éviter', 'événements']\n"
          ]
        }
      ],
      "source": [
        "print(words)"
      ]
    },
    {
      "cell_type": "code",
      "execution_count": 5,
      "metadata": {
        "colab": {
          "base_uri": "https://localhost:8080/"
        },
        "id": "K5IGT9iGZJsZ",
        "outputId": "00fe0f6d-4d6f-42e2-aef2-ba9c07c46982"
      },
      "outputs": [
        {
          "name": "stdout",
          "output_type": "stream",
          "text": [
            "['activites_senegal', 'artisanat_senegal', 'climat_senegal', 'culture_senegal', 'faune_senegal', 'gastronomie_senegal', 'histoire_senegal', 'langues_senegal', 'musique_senegal', 'plages_senegal', 'recommandation_destination_senegal', 'salutations', 'sante_senegal', 'securite_senegal', 'shopping_senegal', 'sports_senegal', 'transport_senegal']\n"
          ]
        }
      ],
      "source": [
        "print(classes)"
      ]
    },
    {
      "cell_type": "code",
      "execution_count": 6,
      "metadata": {
        "colab": {
          "base_uri": "https://localhost:8080/"
        },
        "id": "RyylOi-3ZQca",
        "outputId": "80ec981f-0a1b-4c0a-c5d3-21665cbd614e"
      },
      "outputs": [
        {
          "name": "stdout",
          "output_type": "stream",
          "text": [
            "['Bonjour', 'Bonsoir', 'Comment allez-vous ?', 'Ca va .', 'Salut', 'Quoi de neuf', 'Ca va ?', 'Hello', 'Good Morning', 'Good afternoon', 'How are you?', \"How's it going?\", 'Hi', \"What's up?\", 'How are you doing?', 'Quelles sont les meilleures destinations au Sénégal ?', 'Où aller au Sénégal pour des vacances ?', 'Pouvez-vous me conseiller une destination au Sénégal ?', 'Quels sont les lieux incontournables au Sénégal ?', 'Quels sont les endroits populaires pour les touristes au Sénégal ?', 'What are the best destinations in Senegal?', 'Where to go in Senegal for a vacation?', 'Can you recommend a destination in Senegal?', 'What are the must-see places in Senegal?', 'What are the popular tourist spots in Senegal?', 'Quelles activités peut-on faire au Sénégal ?', 'Que faire pendant mon séjour au Sénégal ?', 'Pouvez-vous me conseiller des excursions au Sénégal ?', 'Quels musées visiter au Sénégal ?', 'Quels sont les festivals culturels au Sénégal ?', 'What activities can you do in Senegal?', 'What to do during my stay in Senegal?', 'Can you recommend excursions in Senegal?', 'Which museums to visit in Senegal?', 'What are the cultural festivals in Senegal?', 'Quels plats typiques essayer au Sénégal ?', 'Pouvez-vous me recommander des restaurants au Sénégal ?', 'Où manger le meilleur thieboudienne ?', 'Quelles sont les spécialités culinaires du Sénégal ?', 'Quels marchés alimentaires visiter ?', 'What typical dishes to try in Senegal?', 'Can you recommend restaurants in Senegal?', 'Where to eat the best thieboudienne?', 'What are the culinary specialties of Senegal?', 'Which food markets to visit?', 'Quel est le meilleur moment pour visiter le Sénégal ?', 'Comment est le climat au Sénégal ?', 'Y a-t-il une saison des pluies au Sénégal ?', 'Quelle est la température moyenne au Sénégal ?', 'Quand visiter Dakar ?', 'Quelle région visiter pendant la saison verte au Sénégal ?', 'What is the best time to visit Senegal?', 'What is the climate like in Senegal?', 'Is there a rainy season in Senegal?', 'What is the average temperature in Senegal?', 'When to visit Dakar?', 'Which region to visit during the green season in Senegal?', 'Quels sont les sites historiques à visiter au Sénégal ?', \"Quelle est l'histoire de l'île de Gorée ?\", 'Où trouver des monuments historiques au Sénégal ?', 'Pouvez-vous me parler du passé colonial du Sénégal ?', 'Quels sont les musées à ne pas manquer au Sénégal ?', 'What are the historical sites to visit in Senegal?', 'What is the history of Gorée Island?', 'Where to find historical monuments in Senegal?', \"Can you tell me about Senegal's colonial past?\", 'Which museums are a must-see in Senegal?', 'Quelles sont les meilleures plages au Sénégal ?', 'Où peut-on faire du surf au Sénégal ?', 'Quels sont les endroits pour se détendre au bord de la mer ?', 'Pouvez-vous recommander des plages tranquilles ?', 'Où peut-on pratiquer la pêche au Sénégal ?', 'What are the best beaches in Senegal?', 'Where can you surf in Senegal?', 'What are the best places to relax by the sea?', 'Can you recommend quiet beaches?', 'Where can you go fishing in Senegal?', 'Comment se déplacer au Sénégal ?', 'Y a-t-il des transports en commun fiables au Sénégal ?', 'Comment louer une voiture au Sénégal ?', 'Quels sont les moyens de transport les plus courants au Sénégal ?', 'Le train est-il une option au Sénégal ?', 'How to get around in Senegal?', 'Are there reliable public transports in Senegal?', 'How to rent a car in Senegal?', 'What are the most common means of transportation in Senegal?', 'Is the train an option in Senegal?', 'Quelle langue parle-t-on au Sénégal ?', 'Pouvez-vous me dire quelles langues sont utilisées au Sénégal ?', 'Les habitants parlent-ils français au Sénégal ?', 'Quels sont les dialectes locaux au Sénégal ?', 'Le wolof est-il la langue principale ?', 'What language is spoken in Senegal?', 'Can you tell me which languages are used in Senegal?', 'Do people speak French in Senegal?', 'What are the local dialects in Senegal?', 'Is Wolof the main language?', 'Quels genres de musique sont populaires au Sénégal ?', 'Pouvez-vous me parler des artistes sénégalais célèbres ?', 'Où écouter de la musique live à Dakar ?', 'Quels instruments de musique sont typiques du Sénégal ?', 'Le mbalax est-il typique du Sénégal ?', 'What music genres are popular in Senegal?', 'Can you tell me about famous Senegalese artists?', 'Where can I listen to live music in Dakar?', 'What musical instruments are typical of Senegal?', 'Is mbalax typical of Senegal?', 'Où faire du shopping au Sénégal ?', 'Quels sont les meilleurs marchés à Dakar ?', 'Peut-on acheter des produits artisanaux en ligne au Sénégal ?', 'Quels centres commerciaux visiter au Sénégal ?', 'Quels souvenirs rapporter du Sénégal ?', 'Where to shop in Senegal?', 'What are the best markets in Dakar?', 'Can you buy handmade products online in Senegal?', 'Which shopping malls should I visit in Senegal?', 'What souvenirs to bring back from Senegal?', 'Quels vaccins faut-il pour voyager au Sénégal ?', 'Y a-t-il des risques de paludisme au Sénégal ?', 'Comment trouver un médecin au Sénégal ?', 'Les pharmacies sont-elles accessibles au Sénégal ?', 'Quelles précautions sanitaires prendre au Sénégal ?', 'What vaccines are required to travel to Senegal?', 'Are there malaria risks in Senegal?', 'How to find a doctor in Senegal?', 'Are pharmacies easily accessible in Senegal?', 'What health precautions should be taken in Senegal?', 'Quelles sont les traditions culturelles au Sénégal ?', 'Quels sont les habits traditionnels au Sénégal ?', 'Pouvez-vous me parler des cérémonies au Sénégal ?', 'Quels sont les arts typiques du Sénégal ?', 'Quelles sont les valeurs culturelles sénégalaises ?', 'What are the cultural traditions in Senegal?', 'What are the traditional clothes in Senegal?', 'Can you tell me about ceremonies in Senegal?', 'What are the typical arts of Senegal?', 'What are Senegalese cultural values?', 'Quels animaux peut-on voir au Sénégal ?', 'Pouvez-vous me conseiller un safari au Sénégal ?', 'Quels parcs nationaux visiter pour la faune ?', 'Y a-t-il des oiseaux rares au Sénégal ?', 'Quels sont les animaux emblématiques du Sénégal ?', 'What animals can be seen in Senegal?', 'Can you recommend a safari in Senegal?', 'Which national parks should I visit for wildlife?', 'Are there rare birds in Senegal?', 'What are the iconic animals of Senegal?', 'Où acheter des souvenirs au Sénégal ?', 'Quels sont les objets artisanaux typiques ?', 'Pouvez-vous me conseiller des marchés locaux ?', 'Quelles sont les spécialités en artisanat ?', 'Quels textiles traditionnels trouve-t-on au Sénégal ?', 'Where to buy souvenirs in Senegal?', 'What are the typical handicrafts in Senegal?', 'Can you recommend local markets?', 'What are the specialties in Senegalese crafts?', 'What traditional textiles can be found in Senegal?', 'Quels sports sont populaires au Sénégal ?', 'Le Sénégal est-il bon au football ?', 'Quels événements sportifs assister au Sénégal ?', 'La lutte sénégalaise est-elle célèbre ?', 'Pouvez-vous me parler des sports traditionnels au Sénégal ?', 'What sports are popular in Senegal?', 'Is Senegal good at football?', 'Which sports events can I attend in Senegal?', 'Is Senegalese wrestling famous?', 'Can you tell me about traditional sports in Senegal?', 'Le Sénégal est-il un pays sûr pour les touristes ?', 'Quels conseils de sécurité pour voyager au Sénégal ?', 'Y a-t-il des zones à éviter au Sénégal ?', 'Comment garantir sa sécurité au Sénégal ?', 'Les femmes peuvent-elles voyager seules au Sénégal ?', 'Is Senegal a safe country for tourists?', 'What safety tips should I follow when traveling to Senegal?', 'Are there any areas to avoid in Senegal?', 'How can I ensure my safety in Senegal?', 'Can women travel alone in Senegal?']\n"
          ]
        }
      ],
      "source": [
        "print(doc_X)"
      ]
    },
    {
      "cell_type": "code",
      "execution_count": 7,
      "metadata": {
        "colab": {
          "base_uri": "https://localhost:8080/"
        },
        "id": "zSu1d8XwZfNW",
        "outputId": "9e8f12a7-f1a7-4cc8-d848-ce33a677e00d"
      },
      "outputs": [
        {
          "name": "stdout",
          "output_type": "stream",
          "text": [
            "['salutations', 'salutations', 'salutations', 'salutations', 'salutations', 'salutations', 'salutations', 'salutations', 'salutations', 'salutations', 'salutations', 'salutations', 'salutations', 'salutations', 'salutations', 'recommandation_destination_senegal', 'recommandation_destination_senegal', 'recommandation_destination_senegal', 'recommandation_destination_senegal', 'recommandation_destination_senegal', 'recommandation_destination_senegal', 'recommandation_destination_senegal', 'recommandation_destination_senegal', 'recommandation_destination_senegal', 'recommandation_destination_senegal', 'activites_senegal', 'activites_senegal', 'activites_senegal', 'activites_senegal', 'activites_senegal', 'activites_senegal', 'activites_senegal', 'activites_senegal', 'activites_senegal', 'activites_senegal', 'gastronomie_senegal', 'gastronomie_senegal', 'gastronomie_senegal', 'gastronomie_senegal', 'gastronomie_senegal', 'gastronomie_senegal', 'gastronomie_senegal', 'gastronomie_senegal', 'gastronomie_senegal', 'gastronomie_senegal', 'climat_senegal', 'climat_senegal', 'climat_senegal', 'climat_senegal', 'climat_senegal', 'climat_senegal', 'climat_senegal', 'climat_senegal', 'climat_senegal', 'climat_senegal', 'climat_senegal', 'climat_senegal', 'histoire_senegal', 'histoire_senegal', 'histoire_senegal', 'histoire_senegal', 'histoire_senegal', 'histoire_senegal', 'histoire_senegal', 'histoire_senegal', 'histoire_senegal', 'histoire_senegal', 'plages_senegal', 'plages_senegal', 'plages_senegal', 'plages_senegal', 'plages_senegal', 'plages_senegal', 'plages_senegal', 'plages_senegal', 'plages_senegal', 'plages_senegal', 'transport_senegal', 'transport_senegal', 'transport_senegal', 'transport_senegal', 'transport_senegal', 'transport_senegal', 'transport_senegal', 'transport_senegal', 'transport_senegal', 'transport_senegal', 'langues_senegal', 'langues_senegal', 'langues_senegal', 'langues_senegal', 'langues_senegal', 'langues_senegal', 'langues_senegal', 'langues_senegal', 'langues_senegal', 'langues_senegal', 'musique_senegal', 'musique_senegal', 'musique_senegal', 'musique_senegal', 'musique_senegal', 'musique_senegal', 'musique_senegal', 'musique_senegal', 'musique_senegal', 'musique_senegal', 'shopping_senegal', 'shopping_senegal', 'shopping_senegal', 'shopping_senegal', 'shopping_senegal', 'shopping_senegal', 'shopping_senegal', 'shopping_senegal', 'shopping_senegal', 'shopping_senegal', 'sante_senegal', 'sante_senegal', 'sante_senegal', 'sante_senegal', 'sante_senegal', 'sante_senegal', 'sante_senegal', 'sante_senegal', 'sante_senegal', 'sante_senegal', 'culture_senegal', 'culture_senegal', 'culture_senegal', 'culture_senegal', 'culture_senegal', 'culture_senegal', 'culture_senegal', 'culture_senegal', 'culture_senegal', 'culture_senegal', 'faune_senegal', 'faune_senegal', 'faune_senegal', 'faune_senegal', 'faune_senegal', 'faune_senegal', 'faune_senegal', 'faune_senegal', 'faune_senegal', 'faune_senegal', 'artisanat_senegal', 'artisanat_senegal', 'artisanat_senegal', 'artisanat_senegal', 'artisanat_senegal', 'artisanat_senegal', 'artisanat_senegal', 'artisanat_senegal', 'artisanat_senegal', 'artisanat_senegal', 'sports_senegal', 'sports_senegal', 'sports_senegal', 'sports_senegal', 'sports_senegal', 'sports_senegal', 'sports_senegal', 'sports_senegal', 'sports_senegal', 'sports_senegal', 'securite_senegal', 'securite_senegal', 'securite_senegal', 'securite_senegal', 'securite_senegal', 'securite_senegal', 'securite_senegal', 'securite_senegal', 'securite_senegal', 'securite_senegal']\n"
          ]
        }
      ],
      "source": [
        "print(doc_y)"
      ]
    },
    {
      "cell_type": "code",
      "execution_count": 8,
      "metadata": {
        "id": "Spa1UB4xZnId"
      },
      "outputs": [],
      "source": [
        "# liste pour les données d'entraînement\n",
        "training = []\n",
        "out_empty = [0] * len(classes)\n",
        "\n",
        "# création du modèle d'ensemble de mots\n",
        "for idx, doc in enumerate(doc_X):\n",
        "    bow = []\n",
        "    text = lemmatizer.lemmatize(doc.lower())\n",
        "    for word in words:\n",
        "        bow.append(1) if word in text else bow.append(0)\n",
        "\n",
        "    # marque l'index de la classe à laquelle le pattern atguel est associé à\n",
        "    output_row = list(out_empty)\n",
        "    output_row[classes.index(doc_y[idx])] = 1\n",
        "\n",
        "    # ajoute le one hot encoded BoW et les classes associées à la liste training\n",
        "    training.append([bow, output_row])\n",
        "\n",
        "# mélanger les données et les convertir en array\n",
        "random.shuffle(training)\n",
        "training = np.array(training, dtype=object)\n",
        "\n",
        "# séparer les features et les labels target\n",
        "train_X = np.array(list(training[:, 0]))\n",
        "train_y = np.array(list(training[:, 1]))"
      ]
    },
    {
      "cell_type": "code",
      "execution_count": 9,
      "metadata": {
        "id": "F8zHlhL6ZxWM"
      },
      "outputs": [],
      "source": [
        "# définition de quelques paramètres\n",
        "input_shape = (len(train_X[0]),)\n",
        "output_shape = len(train_y[0])\n",
        "epochs = 200"
      ]
    },
    {
      "cell_type": "code",
      "execution_count": 10,
      "metadata": {
        "colab": {
          "base_uri": "https://localhost:8080/"
        },
        "id": "HA5dX2IyZyz0",
        "outputId": "afe7d553-d859-413c-dd27-061bc136ec09"
      },
      "outputs": [],
      "source": [
        "# modèle Deep Learning\n",
        "model = Sequential()\n",
        "model.add(Dense(128, input_shape=input_shape, activation=\"relu\"))\n",
        "model.add(Dropout(0.5))\n",
        "model.add(Dense(64, activation=\"relu\"))\n",
        "model.add(Dropout(0.3))\n",
        "model.add(Dense(output_shape, activation = \"softmax\"))\n",
        "\n",
        "adam = tf.keras.optimizers.Adam(learning_rate=0.01, decay=1e-6)\n",
        "model.compile(loss='categorical_crossentropy', optimizer=adam, metrics=[\"accuracy\"])"
      ]
    },
    {
      "cell_type": "code",
      "execution_count": 11,
      "metadata": {
        "colab": {
          "base_uri": "https://localhost:8080/",
          "height": 329
        },
        "id": "dYJ_a11wZ3M8",
        "outputId": "af2cd4ad-8577-489e-9e87-769e3b89dbd1"
      },
      "outputs": [
        {
          "name": "stdout",
          "output_type": "stream",
          "text": [
            "Model: \"sequential\"\n",
            "_________________________________________________________________\n",
            " Layer (type)                Output Shape              Param #   \n",
            "=================================================================\n",
            " dense (Dense)               (None, 128)               44800     \n",
            "                                                                 \n",
            " dropout (Dropout)           (None, 128)               0         \n",
            "                                                                 \n",
            " dense_1 (Dense)             (None, 64)                8256      \n",
            "                                                                 \n",
            " dropout_1 (Dropout)         (None, 64)                0         \n",
            "                                                                 \n",
            " dense_2 (Dense)             (None, 17)                1105      \n",
            "                                                                 \n",
            "=================================================================\n",
            "Total params: 54,161\n",
            "Trainable params: 54,161\n",
            "Non-trainable params: 0\n",
            "_________________________________________________________________\n",
            "None\n"
          ]
        }
      ],
      "source": [
        "print(model.summary())"
      ]
    },
    {
      "cell_type": "code",
      "execution_count": 12,
      "metadata": {
        "colab": {
          "base_uri": "https://localhost:8080/"
        },
        "id": "sSzk4npMZ-89",
        "outputId": "5eccd351-183c-4cf7-ec29-b66ed0138989"
      },
      "outputs": [
        {
          "name": "stdout",
          "output_type": "stream",
          "text": [
            "Epoch 1/200\n",
            "6/6 [==============================] - 0s 2ms/step - loss: 2.8906 - accuracy: 0.0904\n",
            "Epoch 2/200\n",
            "6/6 [==============================] - 0s 1ms/step - loss: 2.7163 - accuracy: 0.1525\n",
            "Epoch 3/200\n",
            "6/6 [==============================] - 0s 1ms/step - loss: 2.5090 - accuracy: 0.2825\n",
            "Epoch 4/200\n",
            "6/6 [==============================] - 0s 1ms/step - loss: 2.1890 - accuracy: 0.3842\n",
            "Epoch 5/200\n",
            "6/6 [==============================] - 0s 1000us/step - loss: 1.7562 - accuracy: 0.5085\n",
            "Epoch 6/200\n",
            "6/6 [==============================] - 0s 1000us/step - loss: 1.5613 - accuracy: 0.5141\n",
            "Epoch 7/200\n",
            "6/6 [==============================] - 0s 999us/step - loss: 1.0434 - accuracy: 0.7062\n",
            "Epoch 8/200\n",
            "6/6 [==============================] - 0s 1ms/step - loss: 0.9020 - accuracy: 0.7401\n",
            "Epoch 9/200\n",
            "6/6 [==============================] - 0s 1000us/step - loss: 0.8316 - accuracy: 0.7740\n",
            "Epoch 10/200\n",
            "6/6 [==============================] - 0s 1ms/step - loss: 0.5018 - accuracy: 0.8475\n",
            "Epoch 11/200\n",
            "6/6 [==============================] - 0s 800us/step - loss: 0.6766 - accuracy: 0.7797\n",
            "Epoch 12/200\n",
            "6/6 [==============================] - 0s 1ms/step - loss: 0.4587 - accuracy: 0.8757\n",
            "Epoch 13/200\n",
            "6/6 [==============================] - 0s 1ms/step - loss: 0.3937 - accuracy: 0.8870\n",
            "Epoch 14/200\n",
            "6/6 [==============================] - 0s 1ms/step - loss: 0.2576 - accuracy: 0.9266\n",
            "Epoch 15/200\n",
            "6/6 [==============================] - 0s 1ms/step - loss: 0.3208 - accuracy: 0.9040\n",
            "Epoch 16/200\n",
            "6/6 [==============================] - 0s 1000us/step - loss: 0.3436 - accuracy: 0.8701\n",
            "Epoch 17/200\n",
            "6/6 [==============================] - 0s 1000us/step - loss: 0.2230 - accuracy: 0.9379\n",
            "Epoch 18/200\n",
            "6/6 [==============================] - 0s 1000us/step - loss: 0.2001 - accuracy: 0.9322\n",
            "Epoch 19/200\n",
            "6/6 [==============================] - 0s 1ms/step - loss: 0.1622 - accuracy: 0.9661\n",
            "Epoch 20/200\n",
            "6/6 [==============================] - 0s 1000us/step - loss: 0.1802 - accuracy: 0.9492\n",
            "Epoch 21/200\n",
            "6/6 [==============================] - 0s 1ms/step - loss: 0.1165 - accuracy: 0.9661\n",
            "Epoch 22/200\n",
            "6/6 [==============================] - 0s 1000us/step - loss: 0.1454 - accuracy: 0.9492\n",
            "Epoch 23/200\n",
            "6/6 [==============================] - 0s 1ms/step - loss: 0.0836 - accuracy: 0.9831\n",
            "Epoch 24/200\n",
            "6/6 [==============================] - 0s 1ms/step - loss: 0.1390 - accuracy: 0.9661\n",
            "Epoch 25/200\n",
            "6/6 [==============================] - 0s 1ms/step - loss: 0.1361 - accuracy: 0.9492\n",
            "Epoch 26/200\n",
            "6/6 [==============================] - 0s 1ms/step - loss: 0.1365 - accuracy: 0.9492\n",
            "Epoch 27/200\n",
            "6/6 [==============================] - 0s 1000us/step - loss: 0.1854 - accuracy: 0.9548\n",
            "Epoch 28/200\n",
            "6/6 [==============================] - 0s 1ms/step - loss: 0.2149 - accuracy: 0.9322\n",
            "Epoch 29/200\n",
            "6/6 [==============================] - 0s 1000us/step - loss: 0.1053 - accuracy: 0.9661\n",
            "Epoch 30/200\n",
            "6/6 [==============================] - 0s 1000us/step - loss: 0.1853 - accuracy: 0.9379\n",
            "Epoch 31/200\n",
            "6/6 [==============================] - 0s 1ms/step - loss: 0.1251 - accuracy: 0.9435\n",
            "Epoch 32/200\n",
            "6/6 [==============================] - 0s 1000us/step - loss: 0.1165 - accuracy: 0.9605\n",
            "Epoch 33/200\n",
            "6/6 [==============================] - 0s 1000us/step - loss: 0.0917 - accuracy: 0.9774\n",
            "Epoch 34/200\n",
            "6/6 [==============================] - 0s 1ms/step - loss: 0.0969 - accuracy: 0.9661\n",
            "Epoch 35/200\n",
            "6/6 [==============================] - 0s 1ms/step - loss: 0.1297 - accuracy: 0.9661\n",
            "Epoch 36/200\n",
            "6/6 [==============================] - 0s 1000us/step - loss: 0.1260 - accuracy: 0.9661\n",
            "Epoch 37/200\n",
            "6/6 [==============================] - 0s 1ms/step - loss: 0.0992 - accuracy: 0.9661\n",
            "Epoch 38/200\n",
            "6/6 [==============================] - 0s 1000us/step - loss: 0.1333 - accuracy: 0.9605\n",
            "Epoch 39/200\n",
            "6/6 [==============================] - 0s 812us/step - loss: 0.0885 - accuracy: 0.9831\n",
            "Epoch 40/200\n",
            "6/6 [==============================] - 0s 1000us/step - loss: 0.0753 - accuracy: 0.9887\n",
            "Epoch 41/200\n",
            "6/6 [==============================] - 0s 1ms/step - loss: 0.0927 - accuracy: 0.9774\n",
            "Epoch 42/200\n",
            "6/6 [==============================] - 0s 1ms/step - loss: 0.0538 - accuracy: 0.9831\n",
            "Epoch 43/200\n",
            "6/6 [==============================] - 0s 1ms/step - loss: 0.1284 - accuracy: 0.9435\n",
            "Epoch 44/200\n",
            "6/6 [==============================] - 0s 1000us/step - loss: 0.0496 - accuracy: 0.9831\n",
            "Epoch 45/200\n",
            "6/6 [==============================] - 0s 1ms/step - loss: 0.0777 - accuracy: 0.9718\n",
            "Epoch 46/200\n",
            "6/6 [==============================] - 0s 1ms/step - loss: 0.1627 - accuracy: 0.9605\n",
            "Epoch 47/200\n",
            "6/6 [==============================] - 0s 800us/step - loss: 0.1161 - accuracy: 0.9661\n",
            "Epoch 48/200\n",
            "6/6 [==============================] - 0s 1ms/step - loss: 0.1676 - accuracy: 0.9379\n",
            "Epoch 49/200\n",
            "6/6 [==============================] - 0s 800us/step - loss: 0.1457 - accuracy: 0.9605\n",
            "Epoch 50/200\n",
            "6/6 [==============================] - 0s 800us/step - loss: 0.0821 - accuracy: 0.9661\n",
            "Epoch 51/200\n",
            "6/6 [==============================] - 0s 1000us/step - loss: 0.0765 - accuracy: 0.9661\n",
            "Epoch 52/200\n",
            "6/6 [==============================] - 0s 800us/step - loss: 0.1666 - accuracy: 0.9492\n",
            "Epoch 53/200\n",
            "6/6 [==============================] - 0s 1ms/step - loss: 0.0921 - accuracy: 0.9831\n",
            "Epoch 54/200\n",
            "6/6 [==============================] - 0s 1000us/step - loss: 0.0953 - accuracy: 0.9774\n",
            "Epoch 55/200\n",
            "6/6 [==============================] - 0s 1000us/step - loss: 0.1327 - accuracy: 0.9435\n",
            "Epoch 56/200\n",
            "6/6 [==============================] - 0s 800us/step - loss: 0.0806 - accuracy: 0.9718\n",
            "Epoch 57/200\n",
            "6/6 [==============================] - 0s 1000us/step - loss: 0.1022 - accuracy: 0.9661\n",
            "Epoch 58/200\n",
            "6/6 [==============================] - 0s 1ms/step - loss: 0.0930 - accuracy: 0.9661\n",
            "Epoch 59/200\n",
            "6/6 [==============================] - 0s 800us/step - loss: 0.1177 - accuracy: 0.9774\n",
            "Epoch 60/200\n",
            "6/6 [==============================] - 0s 1000us/step - loss: 0.0551 - accuracy: 0.9887\n",
            "Epoch 61/200\n",
            "6/6 [==============================] - 0s 1ms/step - loss: 0.1046 - accuracy: 0.9661\n",
            "Epoch 62/200\n",
            "6/6 [==============================] - 0s 1ms/step - loss: 0.1349 - accuracy: 0.9492\n",
            "Epoch 63/200\n",
            "6/6 [==============================] - 0s 1ms/step - loss: 0.0563 - accuracy: 0.9774\n",
            "Epoch 64/200\n",
            "6/6 [==============================] - 0s 1ms/step - loss: 0.0906 - accuracy: 0.9661\n",
            "Epoch 65/200\n",
            "6/6 [==============================] - 0s 1000us/step - loss: 0.1359 - accuracy: 0.9774\n",
            "Epoch 66/200\n",
            "6/6 [==============================] - 0s 1ms/step - loss: 0.0828 - accuracy: 0.9774\n",
            "Epoch 67/200\n",
            "6/6 [==============================] - 0s 1ms/step - loss: 0.1384 - accuracy: 0.9605\n",
            "Epoch 68/200\n",
            "6/6 [==============================] - 0s 1ms/step - loss: 0.1753 - accuracy: 0.9548\n",
            "Epoch 69/200\n",
            "6/6 [==============================] - 0s 1000us/step - loss: 0.0939 - accuracy: 0.9548\n",
            "Epoch 70/200\n",
            "6/6 [==============================] - 0s 1ms/step - loss: 0.1941 - accuracy: 0.9492\n",
            "Epoch 71/200\n",
            "6/6 [==============================] - 0s 1000us/step - loss: 0.1668 - accuracy: 0.9492\n",
            "Epoch 72/200\n",
            "6/6 [==============================] - 0s 1ms/step - loss: 0.0934 - accuracy: 0.9661\n",
            "Epoch 73/200\n",
            "6/6 [==============================] - 0s 1ms/step - loss: 0.1382 - accuracy: 0.9605\n",
            "Epoch 74/200\n",
            "6/6 [==============================] - 0s 1ms/step - loss: 0.0428 - accuracy: 0.9887\n",
            "Epoch 75/200\n",
            "6/6 [==============================] - 0s 1000us/step - loss: 0.0615 - accuracy: 0.9718\n",
            "Epoch 76/200\n",
            "6/6 [==============================] - 0s 1ms/step - loss: 0.1055 - accuracy: 0.9492\n",
            "Epoch 77/200\n",
            "6/6 [==============================] - 0s 1ms/step - loss: 0.1035 - accuracy: 0.9605\n",
            "Epoch 78/200\n",
            "6/6 [==============================] - 0s 1ms/step - loss: 0.1262 - accuracy: 0.9661\n",
            "Epoch 79/200\n",
            "6/6 [==============================] - 0s 1ms/step - loss: 0.1775 - accuracy: 0.9605\n",
            "Epoch 80/200\n",
            "6/6 [==============================] - 0s 1000us/step - loss: 0.1824 - accuracy: 0.9605\n",
            "Epoch 81/200\n",
            "6/6 [==============================] - 0s 1ms/step - loss: 0.1624 - accuracy: 0.9605\n",
            "Epoch 82/200\n",
            "6/6 [==============================] - 0s 1000us/step - loss: 0.1488 - accuracy: 0.9492\n",
            "Epoch 83/200\n",
            "6/6 [==============================] - 0s 1000us/step - loss: 0.1478 - accuracy: 0.9435\n",
            "Epoch 84/200\n",
            "6/6 [==============================] - 0s 1ms/step - loss: 0.1342 - accuracy: 0.9435\n",
            "Epoch 85/200\n",
            "6/6 [==============================] - 0s 1000us/step - loss: 0.0471 - accuracy: 0.9831\n",
            "Epoch 86/200\n",
            "6/6 [==============================] - 0s 1000us/step - loss: 0.1091 - accuracy: 0.9605\n",
            "Epoch 87/200\n",
            "6/6 [==============================] - 0s 1ms/step - loss: 0.1181 - accuracy: 0.9718\n",
            "Epoch 88/200\n",
            "6/6 [==============================] - 0s 1000us/step - loss: 0.0929 - accuracy: 0.9605\n",
            "Epoch 89/200\n",
            "6/6 [==============================] - 0s 1ms/step - loss: 0.0739 - accuracy: 0.9718\n",
            "Epoch 90/200\n",
            "6/6 [==============================] - 0s 1ms/step - loss: 0.1465 - accuracy: 0.9661\n",
            "Epoch 91/200\n",
            "6/6 [==============================] - 0s 1ms/step - loss: 0.0771 - accuracy: 0.9661\n",
            "Epoch 92/200\n",
            "6/6 [==============================] - 0s 1000us/step - loss: 0.0530 - accuracy: 0.9831\n",
            "Epoch 93/200\n",
            "6/6 [==============================] - 0s 902us/step - loss: 0.0944 - accuracy: 0.9718\n",
            "Epoch 94/200\n",
            "6/6 [==============================] - 0s 1ms/step - loss: 0.0423 - accuracy: 0.9944\n",
            "Epoch 95/200\n",
            "6/6 [==============================] - 0s 1000us/step - loss: 0.0594 - accuracy: 0.9774\n",
            "Epoch 96/200\n",
            "6/6 [==============================] - 0s 1000us/step - loss: 0.0942 - accuracy: 0.9718\n",
            "Epoch 97/200\n",
            "6/6 [==============================] - 0s 1000us/step - loss: 0.1416 - accuracy: 0.9548\n",
            "Epoch 98/200\n",
            "6/6 [==============================] - 0s 1ms/step - loss: 0.0536 - accuracy: 0.9718\n",
            "Epoch 99/200\n",
            "6/6 [==============================] - 0s 1000us/step - loss: 0.1238 - accuracy: 0.9661\n",
            "Epoch 100/200\n",
            "6/6 [==============================] - 0s 1ms/step - loss: 0.0684 - accuracy: 0.9887\n",
            "Epoch 101/200\n",
            "6/6 [==============================] - 0s 1000us/step - loss: 0.1161 - accuracy: 0.9548\n",
            "Epoch 102/200\n",
            "6/6 [==============================] - 0s 1000us/step - loss: 0.0331 - accuracy: 0.9944\n",
            "Epoch 103/200\n",
            "6/6 [==============================] - 0s 1ms/step - loss: 0.0709 - accuracy: 0.9718\n",
            "Epoch 104/200\n",
            "6/6 [==============================] - 0s 1000us/step - loss: 0.0640 - accuracy: 0.9605\n",
            "Epoch 105/200\n",
            "6/6 [==============================] - 0s 1ms/step - loss: 0.0874 - accuracy: 0.9774\n",
            "Epoch 106/200\n",
            "6/6 [==============================] - 0s 1000us/step - loss: 0.0909 - accuracy: 0.9718\n",
            "Epoch 107/200\n",
            "6/6 [==============================] - 0s 1000us/step - loss: 0.0956 - accuracy: 0.9548\n",
            "Epoch 108/200\n",
            "6/6 [==============================] - 0s 1ms/step - loss: 0.0467 - accuracy: 0.9887\n",
            "Epoch 109/200\n",
            "6/6 [==============================] - 0s 1ms/step - loss: 0.1790 - accuracy: 0.9379\n",
            "Epoch 110/200\n",
            "6/6 [==============================] - 0s 1000us/step - loss: 0.1299 - accuracy: 0.9548\n",
            "Epoch 111/200\n",
            "6/6 [==============================] - 0s 1000us/step - loss: 0.0949 - accuracy: 0.9774\n",
            "Epoch 112/200\n",
            "6/6 [==============================] - 0s 1ms/step - loss: 0.0773 - accuracy: 0.9831\n",
            "Epoch 113/200\n",
            "6/6 [==============================] - 0s 1ms/step - loss: 0.0241 - accuracy: 0.9831\n",
            "Epoch 114/200\n",
            "6/6 [==============================] - 0s 1ms/step - loss: 0.0726 - accuracy: 0.9661\n",
            "Epoch 115/200\n",
            "6/6 [==============================] - 0s 1000us/step - loss: 0.0560 - accuracy: 0.9831\n",
            "Epoch 116/200\n",
            "6/6 [==============================] - 0s 1000us/step - loss: 0.1103 - accuracy: 0.9492\n",
            "Epoch 117/200\n",
            "6/6 [==============================] - 0s 1ms/step - loss: 0.0752 - accuracy: 0.9831\n",
            "Epoch 118/200\n",
            "6/6 [==============================] - 0s 1ms/step - loss: 0.0978 - accuracy: 0.9548\n",
            "Epoch 119/200\n",
            "6/6 [==============================] - 0s 1ms/step - loss: 0.1126 - accuracy: 0.9774\n",
            "Epoch 120/200\n",
            "6/6 [==============================] - 0s 902us/step - loss: 0.0820 - accuracy: 0.9718\n",
            "Epoch 121/200\n",
            "6/6 [==============================] - 0s 1000us/step - loss: 0.0697 - accuracy: 0.9831\n",
            "Epoch 122/200\n",
            "6/6 [==============================] - 0s 1ms/step - loss: 0.1046 - accuracy: 0.9774\n",
            "Epoch 123/200\n",
            "6/6 [==============================] - 0s 1000us/step - loss: 0.1287 - accuracy: 0.9492\n",
            "Epoch 124/200\n",
            "6/6 [==============================] - 0s 1000us/step - loss: 0.1099 - accuracy: 0.9774\n",
            "Epoch 125/200\n",
            "6/6 [==============================] - 0s 1ms/step - loss: 0.1474 - accuracy: 0.9605\n",
            "Epoch 126/200\n",
            "6/6 [==============================] - 0s 1ms/step - loss: 0.0513 - accuracy: 0.9718\n",
            "Epoch 127/200\n",
            "6/6 [==============================] - 0s 1ms/step - loss: 0.1023 - accuracy: 0.9718\n",
            "Epoch 128/200\n",
            "6/6 [==============================] - 0s 1000us/step - loss: 0.1496 - accuracy: 0.9661\n",
            "Epoch 129/200\n",
            "6/6 [==============================] - 0s 1000us/step - loss: 0.0605 - accuracy: 0.9774\n",
            "Epoch 130/200\n",
            "6/6 [==============================] - 0s 999us/step - loss: 0.1044 - accuracy: 0.9774\n",
            "Epoch 131/200\n",
            "6/6 [==============================] - 0s 1000us/step - loss: 0.0977 - accuracy: 0.9661\n",
            "Epoch 132/200\n",
            "6/6 [==============================] - 0s 1ms/step - loss: 0.1069 - accuracy: 0.9661\n",
            "Epoch 133/200\n",
            "6/6 [==============================] - 0s 2ms/step - loss: 0.1487 - accuracy: 0.9661\n",
            "Epoch 134/200\n",
            "6/6 [==============================] - 0s 2ms/step - loss: 0.1084 - accuracy: 0.9661\n",
            "Epoch 135/200\n",
            "6/6 [==============================] - 0s 1ms/step - loss: 0.1797 - accuracy: 0.9831\n",
            "Epoch 136/200\n",
            "6/6 [==============================] - 0s 1ms/step - loss: 0.1091 - accuracy: 0.9718\n",
            "Epoch 137/200\n",
            "6/6 [==============================] - 0s 1ms/step - loss: 0.0603 - accuracy: 0.9774\n",
            "Epoch 138/200\n",
            "6/6 [==============================] - 0s 1000us/step - loss: 0.0920 - accuracy: 0.9661\n",
            "Epoch 139/200\n",
            "6/6 [==============================] - 0s 1ms/step - loss: 0.1636 - accuracy: 0.9774\n",
            "Epoch 140/200\n",
            "6/6 [==============================] - 0s 1ms/step - loss: 0.1453 - accuracy: 0.9605\n",
            "Epoch 141/200\n",
            "6/6 [==============================] - 0s 1000us/step - loss: 0.0547 - accuracy: 0.9887\n",
            "Epoch 142/200\n",
            "6/6 [==============================] - 0s 1ms/step - loss: 0.2553 - accuracy: 0.9322\n",
            "Epoch 143/200\n",
            "6/6 [==============================] - 0s 1ms/step - loss: 0.1721 - accuracy: 0.9435\n",
            "Epoch 144/200\n",
            "6/6 [==============================] - 0s 998us/step - loss: 0.1074 - accuracy: 0.9774\n",
            "Epoch 145/200\n",
            "6/6 [==============================] - 0s 1000us/step - loss: 0.1282 - accuracy: 0.9661\n",
            "Epoch 146/200\n",
            "6/6 [==============================] - 0s 998us/step - loss: 0.1665 - accuracy: 0.9774\n",
            "Epoch 147/200\n",
            "6/6 [==============================] - 0s 1ms/step - loss: 0.1148 - accuracy: 0.9718\n",
            "Epoch 148/200\n",
            "6/6 [==============================] - 0s 1ms/step - loss: 0.1423 - accuracy: 0.9492\n",
            "Epoch 149/200\n",
            "6/6 [==============================] - 0s 1000us/step - loss: 0.1601 - accuracy: 0.9492\n",
            "Epoch 150/200\n",
            "6/6 [==============================] - 0s 1000us/step - loss: 0.0755 - accuracy: 0.9774\n",
            "Epoch 151/200\n",
            "6/6 [==============================] - 0s 1000us/step - loss: 0.2011 - accuracy: 0.9492\n",
            "Epoch 152/200\n",
            "6/6 [==============================] - 0s 800us/step - loss: 0.0621 - accuracy: 0.9887\n",
            "Epoch 153/200\n",
            "6/6 [==============================] - 0s 1ms/step - loss: 0.0644 - accuracy: 0.9774\n",
            "Epoch 154/200\n",
            "6/6 [==============================] - 0s 999us/step - loss: 0.1561 - accuracy: 0.9605\n",
            "Epoch 155/200\n",
            "6/6 [==============================] - 0s 1000us/step - loss: 0.1167 - accuracy: 0.9718\n",
            "Epoch 156/200\n",
            "6/6 [==============================] - 0s 999us/step - loss: 0.1095 - accuracy: 0.9774\n",
            "Epoch 157/200\n",
            "6/6 [==============================] - 0s 1ms/step - loss: 0.0869 - accuracy: 0.9718\n",
            "Epoch 158/200\n",
            "6/6 [==============================] - 0s 1ms/step - loss: 0.1069 - accuracy: 0.9605\n",
            "Epoch 159/200\n",
            "6/6 [==============================] - 0s 1ms/step - loss: 0.0797 - accuracy: 0.9718\n",
            "Epoch 160/200\n",
            "6/6 [==============================] - 0s 998us/step - loss: 0.0860 - accuracy: 0.9718\n",
            "Epoch 161/200\n",
            "6/6 [==============================] - 0s 800us/step - loss: 0.0454 - accuracy: 0.9831\n",
            "Epoch 162/200\n",
            "6/6 [==============================] - 0s 1000us/step - loss: 0.0731 - accuracy: 0.9661\n",
            "Epoch 163/200\n",
            "6/6 [==============================] - 0s 998us/step - loss: 0.1111 - accuracy: 0.9661\n",
            "Epoch 164/200\n",
            "6/6 [==============================] - 0s 1000us/step - loss: 0.0857 - accuracy: 0.9718\n",
            "Epoch 165/200\n",
            "6/6 [==============================] - 0s 999us/step - loss: 0.1853 - accuracy: 0.9605\n",
            "Epoch 166/200\n",
            "6/6 [==============================] - 0s 1000us/step - loss: 0.0872 - accuracy: 0.9774\n",
            "Epoch 167/200\n",
            "6/6 [==============================] - 0s 1000us/step - loss: 0.1441 - accuracy: 0.9605\n",
            "Epoch 168/200\n",
            "6/6 [==============================] - 0s 1ms/step - loss: 0.1593 - accuracy: 0.9605\n",
            "Epoch 169/200\n",
            "6/6 [==============================] - 0s 1ms/step - loss: 0.0891 - accuracy: 0.9661\n",
            "Epoch 170/200\n",
            "6/6 [==============================] - 0s 1ms/step - loss: 0.1253 - accuracy: 0.9605\n",
            "Epoch 171/200\n",
            "6/6 [==============================] - 0s 1ms/step - loss: 0.0576 - accuracy: 0.9887\n",
            "Epoch 172/200\n",
            "6/6 [==============================] - 0s 1ms/step - loss: 0.2960 - accuracy: 0.9435\n",
            "Epoch 173/200\n",
            "6/6 [==============================] - 0s 1000us/step - loss: 0.0448 - accuracy: 0.9774\n",
            "Epoch 174/200\n",
            "6/6 [==============================] - 0s 1ms/step - loss: 0.0870 - accuracy: 0.9774\n",
            "Epoch 175/200\n",
            "6/6 [==============================] - 0s 1000us/step - loss: 0.1158 - accuracy: 0.9661\n",
            "Epoch 176/200\n",
            "6/6 [==============================] - 0s 800us/step - loss: 0.3457 - accuracy: 0.9153\n",
            "Epoch 177/200\n",
            "6/6 [==============================] - 0s 1ms/step - loss: 0.0885 - accuracy: 0.9774\n",
            "Epoch 178/200\n",
            "6/6 [==============================] - 0s 1ms/step - loss: 0.0952 - accuracy: 0.9548\n",
            "Epoch 179/200\n",
            "6/6 [==============================] - 0s 1ms/step - loss: 0.1837 - accuracy: 0.9492\n",
            "Epoch 180/200\n",
            "6/6 [==============================] - 0s 1000us/step - loss: 0.0953 - accuracy: 0.9548\n",
            "Epoch 181/200\n",
            "6/6 [==============================] - 0s 1000us/step - loss: 0.1118 - accuracy: 0.9605\n",
            "Epoch 182/200\n",
            "6/6 [==============================] - 0s 1000us/step - loss: 0.1518 - accuracy: 0.9661\n",
            "Epoch 183/200\n",
            "6/6 [==============================] - 0s 999us/step - loss: 0.2381 - accuracy: 0.9435\n",
            "Epoch 184/200\n",
            "6/6 [==============================] - 0s 1000us/step - loss: 0.1004 - accuracy: 0.9661\n",
            "Epoch 185/200\n",
            "6/6 [==============================] - 0s 1ms/step - loss: 0.0947 - accuracy: 0.9661\n",
            "Epoch 186/200\n",
            "6/6 [==============================] - 0s 1000us/step - loss: 0.0910 - accuracy: 0.9718\n",
            "Epoch 187/200\n",
            "6/6 [==============================] - 0s 800us/step - loss: 0.0792 - accuracy: 0.9774\n",
            "Epoch 188/200\n",
            "6/6 [==============================] - 0s 998us/step - loss: 0.0996 - accuracy: 0.9661\n",
            "Epoch 189/200\n",
            "6/6 [==============================] - 0s 800us/step - loss: 0.1281 - accuracy: 0.9548\n",
            "Epoch 190/200\n",
            "6/6 [==============================] - 0s 1ms/step - loss: 0.2018 - accuracy: 0.9492\n",
            "Epoch 191/200\n",
            "6/6 [==============================] - 0s 1000us/step - loss: 0.2391 - accuracy: 0.9492\n",
            "Epoch 192/200\n",
            "6/6 [==============================] - 0s 1000us/step - loss: 0.1329 - accuracy: 0.9774\n",
            "Epoch 193/200\n",
            "6/6 [==============================] - 0s 1ms/step - loss: 0.1566 - accuracy: 0.9548\n",
            "Epoch 194/200\n",
            "6/6 [==============================] - 0s 1ms/step - loss: 0.0811 - accuracy: 0.9661\n",
            "Epoch 195/200\n",
            "6/6 [==============================] - 0s 800us/step - loss: 0.1340 - accuracy: 0.9718\n",
            "Epoch 196/200\n",
            "6/6 [==============================] - 0s 800us/step - loss: 0.0770 - accuracy: 0.9718\n",
            "Epoch 197/200\n",
            "6/6 [==============================] - 0s 1ms/step - loss: 0.1400 - accuracy: 0.9718\n",
            "Epoch 198/200\n",
            "6/6 [==============================] - 0s 903us/step - loss: 0.1967 - accuracy: 0.9605\n",
            "Epoch 199/200\n",
            "6/6 [==============================] - 0s 1000us/step - loss: 0.5035 - accuracy: 0.9435\n",
            "Epoch 200/200\n",
            "6/6 [==============================] - 0s 1ms/step - loss: 0.1082 - accuracy: 0.9774\n"
          ]
        },
        {
          "data": {
            "text/plain": [
              "<keras.callbacks.History at 0x2aec69286d0>"
            ]
          },
          "execution_count": 12,
          "metadata": {},
          "output_type": "execute_result"
        }
      ],
      "source": [
        "# entraînement du modèle\n",
        "model.fit(x=train_X, y=train_y, epochs=200, verbose=1)"
      ]
    },
    {
      "cell_type": "code",
      "execution_count": 13,
      "metadata": {
        "colab": {
          "base_uri": "https://localhost:8080/"
        },
        "id": "b3ykzzRiVq61",
        "outputId": "91568385-2c7e-4418-9061-aaa4967ac3c4"
      },
      "outputs": [
        {
          "name": "stdout",
          "output_type": "stream",
          "text": [
            "Requirement already satisfied: langdetect in c:\\users\\amous\\appdata\\local\\programs\\python\\python310\\lib\\site-packages (1.0.9)\n",
            "Requirement already satisfied: six in c:\\users\\amous\\appdata\\roaming\\python\\python310\\site-packages (from langdetect) (1.17.0)\n"
          ]
        }
      ],
      "source": [
        "!pip install langdetect"
      ]
    },
    {
      "cell_type": "code",
      "execution_count": 14,
      "metadata": {
        "id": "Qj7aedKlaKpm"
      },
      "outputs": [],
      "source": [
        "from langdetect import detect\n",
        "import random\n",
        "def clean_text(text):\n",
        "  tokens = nltk.word_tokenize(text)\n",
        "  tokens = [lemmatizer.lemmatize(word) for word in tokens]\n",
        "  return tokens\n",
        "\n",
        "def bag_of_words(text, vocab):\n",
        "  tokens = clean_text(text)\n",
        "  bow = [0] * len(vocab)\n",
        "  for w in tokens:\n",
        "    for idx, word in enumerate(vocab):\n",
        "      if word == w:\n",
        "        bow[idx] = 1\n",
        "  return np.array(bow)\n",
        "\n",
        "def pred_class(text, vocab, labels):\n",
        "  bow = bag_of_words(text, vocab)\n",
        "  result = model.predict(np.array([bow]))[0]\n",
        "  thresh = 0.2\n",
        "  y_pred = [[idx, res] for idx, res in enumerate(result) if res > thresh]\n",
        "\n",
        "  y_pred.sort(key=lambda x: x[1], reverse=True)\n",
        "  return_list = []\n",
        "  for r in y_pred:\n",
        "    return_list.append(labels[r[0]])\n",
        "  return return_list\n",
        "\n",
        "\n",
        "\n",
        "import difflib\n",
        "\n",
        "def find_best_match(user_question, questions_list):\n",
        "    best_match = difflib.get_close_matches(user_question, questions_list, n=1, cutoff=0.6)\n",
        "    return best_match[0] if best_match else None\n",
        "\n",
        "def get_response(intents_list, intents_json, user_question):\n",
        "    try:\n",
        "        user_language = detect(user_question)\n",
        "    except:\n",
        "        user_language = \"fr\"\n",
        "\n",
        "    language = \"fr\" if user_language.startswith(\"fr\") else \"en\"\n",
        "\n",
        "    tag = intents_list[0] if intents_list else None\n",
        "    if not tag:\n",
        "        return \"Je ne comprends pas.\"\n",
        "\n",
        "    for intent in intents_json[\"intentions\"]:\n",
        "        if intent[\"tag\"] == tag:\n",
        "            questions_key = f\"questions_{language}\"\n",
        "            responses_key = f\"réponses_{language}\"\n",
        "\n",
        "            if questions_key in intent and responses_key in intent:\n",
        "                best_match = find_best_match(user_question, intent[questions_key])\n",
        "                if best_match:\n",
        "                    question_index = intent[questions_key].index(best_match)\n",
        "                    return intent[responses_key][question_index]\n",
        "                else:\n",
        "                    return random.choice(intent[responses_key])\n",
        "    return \"Je ne comprends pas.\"\n",
        "\n",
        "\n",
        "\n"
      ]
    },
    {
      "cell_type": "code",
      "execution_count": 15,
      "metadata": {
        "id": "tZNiEnsXVmp0"
      },
      "outputs": [],
      "source": [
        "import pickle\n",
        "# Sauvegarder le modèle\n",
        "model.save('model.h5')\n",
        "\n",
        "# Sauvegarder les données de prétraitement\n",
        "preprocessing_data = {\n",
        "    'words': words,\n",
        "    'classes': classes\n",
        "}\n",
        "with open('preprocessing_data.pkl', 'wb') as f:\n",
        "    pickle.dump(preprocessing_data, f)\n",
        "    "
      ]
    },
    {
      "cell_type": "code",
      "execution_count": null,
      "metadata": {
        "colab": {
          "base_uri": "https://localhost:8080/"
        },
        "id": "0dsRg_kfD6ad",
        "outputId": "d6b33c96-3523-4b74-94f1-8b2dc6219cb3"
      },
      "outputs": [],
      "source": [
        "while True:\n",
        "    message = input(\"\")\n",
        "    if message.lower() in [\"exit\", \"quit\", \"stop\"]:\n",
        "        print(\"Chatbot arrêté. À bientôt !\")\n",
        "        break\n",
        "    intents = pred_class(message, words, classes)\n",
        "    # Pass the user's message (message) as the user_question argument\n",
        "    result = get_response(intents, data, message)\n",
        "    print(result)"
      ]
    },
    {
      "cell_type": "code",
      "execution_count": null,
      "metadata": {},
      "outputs": [],
      "source": []
    }
  ],
  "metadata": {
    "colab": {
      "provenance": []
    },
    "kernelspec": {
      "display_name": "Python 3",
      "name": "python3"
    },
    "language_info": {
      "codemirror_mode": {
        "name": "ipython",
        "version": 3
      },
      "file_extension": ".py",
      "mimetype": "text/x-python",
      "name": "python",
      "nbconvert_exporter": "python",
      "pygments_lexer": "ipython3",
      "version": "3.10.11"
    }
  },
  "nbformat": 4,
  "nbformat_minor": 0
}
